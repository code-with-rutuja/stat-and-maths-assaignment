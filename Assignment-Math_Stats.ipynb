{
 "cells": [
  {
   "cell_type": "markdown",
   "id": "07c8c0b2",
   "metadata": {
    "id": "07c8c0b2"
   },
   "source": [
    "\n",
    "### 1. Find the Cartesian Product of the below given sets in the below cell. (In Python Code)\n",
    "\n",
    "A = set(['a','b','c'])\n",
    "\n",
    "S = {1,2,3}\n"
   ]
  },
  {
   "cell_type": "code",
   "execution_count": 1,
   "id": "8b2078fa",
   "metadata": {
    "id": "8b2078fa"
   },
   "outputs": [
    {
     "name": "stdout",
     "output_type": "stream",
     "text": [
      "{('a', 1), ('b', 3), ('b', 2), ('c', 1), ('a', 3), ('a', 2), ('c', 3), ('b', 1), ('c', 2)}\n"
     ]
    }
   ],
   "source": [
    "from itertools import product\n",
    "def solve(A , S):\n",
    "    return set(product(A, S))\n",
    "\n",
    "A = (['a','b','c'])\n",
    "S = {1,2,3}\n",
    "print(solve(A, S))"
   ]
  },
  {
   "cell_type": "markdown",
   "id": "3d43b9ee",
   "metadata": {
    "id": "3d43b9ee"
   },
   "source": [
    "### 2. Find all the possible permutations and number of permutations of A\n",
    "\n",
    "A = {'Red','Green','Blue'}\n"
   ]
  },
  {
   "cell_type": "code",
   "execution_count": 4,
   "id": "52c18588",
   "metadata": {
    "id": "52c18588"
   },
   "outputs": [
    {
     "name": "stdout",
     "output_type": "stream",
     "text": [
      "{('Green', 'Red', 'Blue'), ('Blue', 'Red', 'Green'), ('Red', 'Green', 'Blue'), ('Green', 'Blue', 'Red'), ('Red', 'Blue', 'Green'), ('Blue', 'Green', 'Red')}\n"
     ]
    }
   ],
   "source": [
    "from itertools import permutations\n",
    "A = {'Red','Green','Blue'}\n",
    "p = permutations(A)\n",
    "print(set(p))"
   ]
  },
  {
   "cell_type": "markdown",
   "id": "637ffa24",
   "metadata": {
    "id": "637ffa24"
   },
   "source": [
    "### 3. Research Question on Hypothesis Testing\n",
    "\n",
    "In previous years, 52% of parents believed that electronics and social media was the cause of their teenager’s lack of sleep. Do more parents today believe that their teenager’s lack of sleep is caused due to electronics and social media?\n",
    "\n",
    "**Population**: Parents with a teenager (age 13-18)  \n",
    "**Parameter of Interest**: p  \n",
    "\n",
    "**Null Hypothesis:** p = 0.52  \n",
    "**Alternative Hypthosis:** p > 0.52 (note that this is a one-sided test)\n",
    "\n",
    "**Data**: 1018 people were surveyed. 56% of those who were surveyed believe that their teenager’s lack of sleep is caused due to electronics and social media."
   ]
  },
  {
   "cell_type": "markdown",
   "id": "4786f83f",
   "metadata": {
    "id": "4786f83f"
   },
   "source": [
    "### Hint: Use  `proportions_ztest()` from `statsmodels`\n",
    "\n",
    "Note the argument `alternative=\"larger\"` indicating a one-sided test. The function returns two values - the z-statistic and the corresponding p-value."
   ]
  },
  {
   "cell_type": "code",
   "execution_count": 4,
   "id": "daaecb9e",
   "metadata": {},
   "outputs": [],
   "source": [
    "import statsmodels.api as sm\n",
    "import numpy as np\n",
    "import matplotlib.pyplot as plt\n",
    "import pandas as pd"
   ]
  },
  {
   "cell_type": "code",
   "execution_count": 5,
   "id": "475fe79a",
   "metadata": {
    "id": "475fe79a"
   },
   "outputs": [
    {
     "data": {
      "text/plain": [
       "0.05"
      ]
     },
     "execution_count": 5,
     "metadata": {},
     "output_type": "execute_result"
    }
   ],
   "source": [
    "# significance = 5% = 0.05\n",
    "5/100"
   ]
  },
  {
   "cell_type": "code",
   "execution_count": 6,
   "id": "8a6572b3",
   "metadata": {},
   "outputs": [],
   "source": [
    "# defining the parameters\n",
    "n = 1018\n",
    "pnull = 0.52\n",
    "phat = 0.56"
   ]
  },
  {
   "cell_type": "code",
   "execution_count": 9,
   "id": "39fd3dee",
   "metadata": {},
   "outputs": [
    {
     "data": {
      "text/plain": [
       "(2.571067795759113, 0.005069273865860533)"
      ]
     },
     "execution_count": 9,
     "metadata": {},
     "output_type": "execute_result"
    }
   ],
   "source": [
    "sm.stats.proportions_ztest(phat * n, n, pnull, alternative = 'larger')"
   ]
  },
  {
   "cell_type": "markdown",
   "id": "e64e5437",
   "metadata": {
    "id": "e64e5437"
   },
   "source": [
    "### What is your Conclusion of the hypothesis test\n"
   ]
  },
  {
   "cell_type": "code",
   "execution_count": null,
   "id": "4da83967",
   "metadata": {
    "id": "4da83967"
   },
   "outputs": [],
   "source": [
    "Since the calculated p-value of the z-test is pretty small, we can reject the Null hypothesis that the percentage of parents, \n",
    "who believe that their teenagers lack of sleep is caused due to electronics and social media, is as same as previous years \n",
    "estimate i.e. 52%.\n",
    "\n",
    "Although, we do not accept the alternate hypothesis, this informally means that there is a good chance of this proportion being\n",
    "more than 52%."
   ]
  },
  {
   "cell_type": "markdown",
   "id": "4503f17c",
   "metadata": {
    "id": "4503f17c"
   },
   "source": [
    "### 4. Calculate the set difference between the 2 sets (set1 - multipes of 3 upto a range of 31 and set2 - multiples of upto a range of 31)"
   ]
  },
  {
   "cell_type": "code",
   "execution_count": 2,
   "id": "d2760c77",
   "metadata": {
    "id": "d2760c77"
   },
   "outputs": [
    {
     "name": "stdout",
     "output_type": "stream",
     "text": [
      "{3, 6, 9, 15, 18, 21, 27, 30}\n",
      "{4, 8, 16, 20, 28}\n"
     ]
    }
   ],
   "source": [
    "set1 = {3,6,9,12,15,18,21,24,27,30}\n",
    "set2 = {4,8,12,16,20,24,28} \n",
    "print (set1.difference(set2))\n",
    "print (set2.difference(set1))"
   ]
  },
  {
   "cell_type": "code",
   "execution_count": 3,
   "id": "b10dc469",
   "metadata": {
    "id": "b10dc469"
   },
   "outputs": [
    {
     "name": "stdout",
     "output_type": "stream",
     "text": [
      "{3, 6, 9, 15, 18, 21, 27, 30}\n",
      "{4, 8, 16, 20, 28}\n"
     ]
    }
   ],
   "source": [
    "set1 = {3,6,9,12,15,18,21,24,27,30}\n",
    "set2 = {4,8,12,16,20,24,28} \n",
    "print (set1 - set2)\n",
    "print (set2 - set1)"
   ]
  },
  {
   "cell_type": "markdown",
   "id": "796c2e91",
   "metadata": {
    "id": "796c2e91"
   },
   "source": [
    "### 5. Calculate a function to generate random arrays with range of (1,100) and the naive functions to calculate Mean, Varience and Standard deviation for the array generated"
   ]
  },
  {
   "cell_type": "code",
   "execution_count": 12,
   "id": "463d77e6",
   "metadata": {},
   "outputs": [
    {
     "name": "stdout",
     "output_type": "stream",
     "text": [
      "[ 1  2  3  4  5  6  7  8  9 10 11 12 13 14 15 16 17 18 19 20 21 22 23 24\n",
      " 25 26 27 28 29 30 31 32 33 34 35 36 37 38 39 40 41 42 43 44 45 46 47 48\n",
      " 49 50 51 52 53 54 55 56 57 58 59 60 61 62 63 64 65 66 67 68 69 70 71 72\n",
      " 73 74 75 76 77 78 79 80 81 82 83 84 85 86 87 88 89 90 91 92 93 94 95 96\n",
      " 97 98 99]\n",
      "\n",
      "Mean :  50.0\n",
      "\n",
      "varience :  816.6666666666666\n",
      "\n",
      "std :  28.577380332470412\n"
     ]
    }
   ],
   "source": [
    "import numpy as np\n",
    "array = np.arange (1,100)\n",
    "print(array)\n",
    "r1 = np.mean(array)\n",
    "print(\"\\nMean : \", r1)\n",
    "\n",
    "r2 = np.var(array)\n",
    "print(\"\\nvarience : \", r2)\n",
    "\n",
    "r3 = np.std(array)\n",
    "print(\"\\nstd : \", r3)"
   ]
  }
 ],
 "metadata": {
  "colab": {
   "provenance": []
  },
  "kernelspec": {
   "display_name": "Python 3 (ipykernel)",
   "language": "python",
   "name": "python3"
  },
  "language_info": {
   "codemirror_mode": {
    "name": "ipython",
    "version": 3
   },
   "file_extension": ".py",
   "mimetype": "text/x-python",
   "name": "python",
   "nbconvert_exporter": "python",
   "pygments_lexer": "ipython3",
   "version": "3.11.4"
  }
 },
 "nbformat": 4,
 "nbformat_minor": 5
}
